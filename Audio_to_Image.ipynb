{
  "nbformat": 4,
  "nbformat_minor": 0,
  "metadata": {
    "colab": {
      "provenance": [],
      "collapsed_sections": [
        "npyDehijGjpc"
      ],
      "toc_visible": true,
      "mount_file_id": "1kb5Sr0l2tWAdtWwb7_DHjsdDHYonR_m4",
      "authorship_tag": "ABX9TyNsLzlGBUxnUYVga83Iym38",
      "include_colab_link": true
    },
    "kernelspec": {
      "name": "python3",
      "display_name": "Python 3"
    },
    "language_info": {
      "name": "python"
    }
  },
  "cells": [
    {
      "cell_type": "markdown",
      "metadata": {
        "id": "view-in-github",
        "colab_type": "text"
      },
      "source": [
        "<a href=\"https://colab.research.google.com/github/Lucas-C-Vargas/Image-Transmission-via-Audio-File/blob/main/Audio_to_Image.ipynb\" target=\"_parent\"><img src=\"https://colab.research.google.com/assets/colab-badge.svg\" alt=\"Open In Colab\"/></a>"
      ]
    },
    {
      "cell_type": "markdown",
      "source": [
        "# Trabalho Final - Transmissão de Imagens via Arquivos de Áudio\n",
        "---\n",
        "\n",
        "*ÁUDIO → IMAGEM*\n",
        "\n",
        "**Alunos:**\n",
        "- Lucas de Carvalho Vargas (0039109)\n",
        "- Pedro Henrique Lopes Matias (0039112)"
      ],
      "metadata": {
        "id": "Epe-WfeoSmp7"
      }
    },
    {
      "cell_type": "markdown",
      "source": [
        "### Bibliotecas"
      ],
      "metadata": {
        "id": "s8cm7KITw8yF"
      }
    },
    {
      "cell_type": "code",
      "execution_count": 1,
      "metadata": {
        "id": "V1ZsAEMhIhQl"
      },
      "outputs": [],
      "source": [
        "# Referência 1\n",
        "\n",
        "import cv2 as cv # Open CV usado para abertura de imagens\n",
        "import numpy as np # numpy para produção de matrizes\n",
        "import matplotlib.pyplot as plt # Matplotlib para plotar imagens\n",
        "import urllib.request as url  # urllib para fazer download de imagens em repositório do github\n",
        "import zipfile # zipfile para extração de arquivos zip\n",
        "\n",
        "\n",
        "from PIL import Image\n",
        "from math import sqrt, cos, sin, pi"
      ]
    },
    {
      "cell_type": "markdown",
      "source": [
        "### Funções"
      ],
      "metadata": {
        "id": "gejU6RkY3O3Y"
      }
    },
    {
      "cell_type": "code",
      "source": [
        "def extract_signal():\n",
        "    image = Image.open(\"/Images/IFMG_Logo.jpeg\")\n",
        "    return signal"
      ],
      "metadata": {
        "id": "fFGQKrMmhhqu"
      },
      "execution_count": 2,
      "outputs": []
    },
    {
      "cell_type": "code",
      "source": [
        "def calc_dimensions(signal=None, RGB=False):\n",
        "    '''\n",
        "    Calculates and returns the dimensions from the original image.\n",
        "    ```\n",
        "\n",
        "    # PARAMETERS:\n",
        "    - signal: array_like\n",
        "    - RGB: boolean, optional\n",
        "    >>> False → Grayscale (1 value per pixel)\n",
        "    >>> True → RGB (3 values per pixel)\n",
        "\n",
        "    # RETURNS:\n",
        "    - width: int (pixels)\n",
        "    - heigth: int (pixels)\n",
        "    ```\n",
        "    '''\n",
        "\n",
        "    height = 1;\n",
        "\n",
        "    if signal[0] >= 0:\n",
        "        positive = True\n",
        "    else:\n",
        "        positive = False\n",
        "\n",
        "    for x in range(len(signal)):\n",
        "        if positive and (signal[x] < 0):\n",
        "            positive = False\n",
        "            height = height + 1\n",
        "        if not(positive) and (signal[x] > 0):\n",
        "            positive = True\n",
        "            height = height + 1\n",
        "\n",
        "    width = len(signal)/height\n",
        "    if RGB:\n",
        "        width = width/3\n",
        "\n",
        "    return int(width), int(height)"
      ],
      "metadata": {
        "id": "RVXVyReaGoc4"
      },
      "execution_count": 3,
      "outputs": []
    },
    {
      "cell_type": "code",
      "source": [
        "def image_build_gray(file):\n",
        "\n",
        "    width, height = calc_dimensions(signal, False)\n",
        "\n",
        "    image = Image.new(\"L\", (width, height), color=0)\n",
        "    for x in range(width):\n",
        "        for y in range(height):\n",
        "            image.putpixel((x, y), int(signal[(x + y*width)%256]))\n",
        "\n",
        "    return image"
      ],
      "metadata": {
        "id": "EK_hrW5KiGfo"
      },
      "execution_count": 4,
      "outputs": []
    },
    {
      "cell_type": "markdown",
      "source": [
        "### Arquivos"
      ],
      "metadata": {
        "id": "Uh6UgR6j3AKn"
      }
    },
    {
      "cell_type": "code",
      "source": [
        "#teste inicial\n",
        "\n",
        "height = 256;\n",
        "width = 50;\n",
        "BACKGROUND = ((256//2))\n",
        "\n",
        "signal = np.arange(0, 256, 1)\n",
        "w, h = calc_dimensions(signal, True)\n",
        "teste = plot_teste_rgb(100, 256, signal)\n",
        "teste\n",
        "\n",
        "file = \"drive/MyDrive/Colab Notebooks/Trabalho Final/Images/IFMG_Logo.jpeg\"\n",
        "image = Image.open(file)\n",
        "image"
      ],
      "metadata": {
        "colab": {
          "base_uri": "https://localhost:8080/",
          "height": 209
        },
        "id": "ZHwKbt6I3lXN",
        "outputId": "2a198574-4ff1-4f29-85a6-8afc6b3abf50"
      },
      "execution_count": 12,
      "outputs": [
        {
          "output_type": "execute_result",
          "data": {
            "text/plain": [
              "<PIL.JpegImagePlugin.JpegImageFile image mode=RGB size=171x192>"
            ],
            "image/png": "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\n"
          },
          "metadata": {},
          "execution_count": 12
        }
      ]
    },
    {
      "cell_type": "markdown",
      "source": [
        "### Testes"
      ],
      "metadata": {
        "id": "npyDehijGjpc"
      }
    },
    {
      "cell_type": "code",
      "source": [
        "def triangle(width=0, height=0, signal=None):\n",
        "    image = Image.new(\"L\", (width, height), color=0)\n",
        "    for x in range(width):\n",
        "        for y in range(height):\n",
        "            if x < y:\n",
        "                image.putpixel((x, y), int(signal[x]))\n",
        "    return image"
      ],
      "metadata": {
        "id": "LA4oUjLq3UNB"
      },
      "execution_count": 5,
      "outputs": []
    },
    {
      "cell_type": "code",
      "source": [
        "def plot_teste(width=0, height=0, signal=None):\n",
        "    image = Image.new(\"L\", (width, height), color=0)\n",
        "    for x in range(width):\n",
        "        for y in range(height):\n",
        "            image.putpixel((x, y), int(signal[(x + y*width)%256]))\n",
        "    return image"
      ],
      "metadata": {
        "id": "mYmi-QswFqAF"
      },
      "execution_count": 6,
      "outputs": []
    },
    {
      "cell_type": "code",
      "source": [
        "def plot_teste_rgb(width=0, height=0, signal=None):\n",
        "    image = Image.new(\"RGB\", (width, height), color=0)\n",
        "    for x in range(width):\n",
        "        for y in range(height):\n",
        "            c = int(signal[(x + y*width)%256])\n",
        "            image.putpixel((x, y), (c, signal[x], signal[x]))\n",
        "    return image"
      ],
      "metadata": {
        "id": "9QLIPyG9kAmH"
      },
      "execution_count": 7,
      "outputs": []
    },
    {
      "cell_type": "markdown",
      "source": [
        "# <center> --- </center>\n",
        "\n",
        "[//]: Rodapé\n",
        "---\n",
        "\n",
        "<center>\n",
        "  <img\n",
        "    src=\"https://drive.google.com/uc?export=view&id=1nHTWpJNRG-PMsewxoHzlCYARkTwPQIrw\"\n",
        "    alt=\"Empty_PNG\"\n",
        "    align=\"left\"\n",
        "    height=\"50\"\n",
        "    width=\"50\"\n",
        "  />\n",
        "  <img\n",
        "    src=\"https://drive.google.com/uc?export=view&id=1m_rzpQJQOZ1Kd3RBA5KkY0dm-_Swlg4_\"\n",
        "    alt=\"Logo IFMG\"\n",
        "    align=\"left\"\n",
        "    height=\"50\"\n",
        "  />\n",
        "  <img\n",
        "    src=\"Images/IFMG_Logo.jpeg"\n",
        "    alt=\"Empty_PNG\"\n",
        "    align=\"right\"\n",
        "    height=\"50\"\n",
        "    width=\"50\"\n",
        "  />\n",
        "  <img\n",
        "    src=\"https://drive.google.com/uc?export=view&id=1m_rzpQJQOZ1Kd3RBA5KkY0dm-_Swlg4_\"\n",
        "    alt=\"Empty_PNG\"\n",
        "    align=\"right\"\n",
        "    height=\"50\"\n",
        "    width=\"50\"\n",
        "  />\n",
        "  <figcaption>Instituto Federal de Educação, Ciência e tecnologia de Minas Gerais - Campus Betim</figcaption>\n",
        "  <figcaption>Processamento de Sinais - 2023.2</figcaption>\n",
        "</center>\n",
        "\n",
        "---"
      ],
      "metadata": {
        "id": "j3V8CQ7tkjpz"
      }
    }
  ]
}
