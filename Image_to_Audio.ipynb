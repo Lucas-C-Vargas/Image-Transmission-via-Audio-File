{
  "cells": [
    {
      "cell_type": "markdown",
      "metadata": {
        "id": "view-in-github",
        "colab_type": "text"
      },
      "source": [
        "<a href=\"https://colab.research.google.com/github/Lucas-C-Vargas/Image-Transmission-via-Audio-File/blob/main/Image_to_Audio.ipynb\" target=\"_parent\"><img src=\"https://colab.research.google.com/assets/colab-badge.svg\" alt=\"Open In Colab\"/></a>"
      ]
    },
    {
      "cell_type": "markdown",
      "metadata": {
        "id": "Epe-WfeoSmp7"
      },
      "source": [
        "# Trabalho Final - Transmissão de Imagens via Arquivos de Áudio\n",
        "---\n",
        "\n",
        "*IMAGEM → ÁUDIO*\n",
        "\n",
        "**Alunos:**\n",
        "- Lucas de Carvalho Vargas (0039109)\n",
        "- Pedro Henrique Lopes Matias (0039112)"
      ]
    },
    {
      "cell_type": "markdown",
      "metadata": {
        "id": "s8cm7KITw8yF"
      },
      "source": [
        "### Bibliotecas"
      ]
    },
    {
      "cell_type": "code",
      "execution_count": null,
      "metadata": {
        "id": "V1ZsAEMhIhQl"
      },
      "outputs": [],
      "source": [
        "import numpy as np # Numpy para produção de matrizes\n",
        "import matplotlib.pyplot as plt # Matplotlib para plotar imagens\n",
        "import scipy as sp\n",
        "from scipy import signal\n",
        "from scipy.io import wavfile # Usado para processar arquivos .WAV\n",
        "from scipy.fft import fft\n",
        "import requests # Obter arquivos em repositórios do GitHub\n",
        "from PIL import Image # Usado para processar imagens\n",
        "from IPython.display import Audio # Usado para processar arquivos de audio\n",
        "import os.path\n",
        "from os import path # Navega nos diretórios\n",
        "\n",
        "import cv2 as cv # Open CV usado para abertura de imagens\n",
        "import urllib.request as url  # urllib para fazer download de imagens em repositório do github\n",
        "import zipfile # zipfile para extração de arquivos zip\n",
        "from math import sqrt, cos, sin, pi"
      ]
    },
    {
      "cell_type": "code",
      "execution_count": null,
      "metadata": {
        "id": "bVT1iIZy1eKZ"
      },
      "outputs": [],
      "source": [
        "# backup (referencias)\n",
        "from scipy import signal\n",
        "import cv2 as cv # Open CV usado para abertura de imagens\n",
        "import urllib.request as url  # urllib para fazer download de imagens em repositório do github\n",
        "import zipfile # zipfile para extração de arquivos zip em\n",
        "from math import sqrt, cos, sin, pi"
      ]
    },
    {
      "cell_type": "markdown",
      "metadata": {
        "id": "gejU6RkY3O3Y"
      },
      "source": [
        "### Funções"
      ]
    },
    {
      "cell_type": "code",
      "execution_count": null,
      "metadata": {
        "id": "kTFFTvqmVXco"
      },
      "outputs": [],
      "source": [
        "def grayscale(rgb=[0, 0, 0]):\n",
        "    '''\n",
        "    Calculates and returns the Grayscale component for a RGB color.\n",
        "    '''\n",
        "\n",
        "    color = int(0.30*rgb[0] + 0.59*rgb[1] + 0.11*rgb[2]) # Escala de cinza ponderada\n",
        "    return color"
      ]
    },
    {
      "cell_type": "code",
      "execution_count": null,
      "metadata": {
        "id": "hIxwaiyOD7la"
      },
      "outputs": [],
      "source": [
        "def fourier(x, t, Hz=True, dB=False, deg=False, Nfft=None):\n",
        "    '''\n",
        "    Calculates the Magnitude, Phase e Frequencies of a signal x(t).\n",
        "    ```\n",
        "\n",
        "    # PARAMETERS:\n",
        "    - x: array_like with amplitudes (time domain)\n",
        "    - t: array_like with time stamps (time domain)\n",
        "    - Hz: boolean, optional\n",
        "       >>> False → rad/s\n",
        "       >>> True → Hz\n",
        "    - dB: boolean, optional\n",
        "       >>> False → no units\n",
        "       >>> True → dB\n",
        "    - deg: boolean, optional\n",
        "       >>> False → rad\n",
        "       >>> True → degrees\n",
        "    - Nfft: int, optional\n",
        "\n",
        "    # RETURNS:\n",
        "    - mag: array_like\n",
        "    - phase: array_like\n",
        "    - freq: array_like\n",
        "    ```\n",
        "    '''\n",
        "\n",
        "    N = len(x) # Quantidade de amostras do vetor x\n",
        "\n",
        "    # Se Nfft não for declarado, utiliza os N pontos do sinal\n",
        "    if Nfft==None: Nfft=N\n",
        "\n",
        "    T = np.mean(t[1:] - t[:-1]) # Período de amostragem\n",
        "\n",
        "    # Calcula FFT\n",
        "    Xf = fft(x, n=Nfft)/N # Corrige a amplitude na frequencia\n",
        "    Xf[1:] = 2*Xf[1:] # Dobra amplitudes\n",
        "    Xf = Xf[:Nfft//2] # Descarta simetria na frequencia\n",
        "\n",
        "    # Obtém módulo e fase da FFT\n",
        "    mag = np.abs(Xf)\n",
        "    phase = np.angle(Xf, deg)\n",
        "\n",
        "    # Verifica cálculo da amplitude em dB\n",
        "    if dB:\n",
        "        mag = 20*np.log10(mag) # Converte amplitude em dB\n",
        "\n",
        "    # Calcula o vetor de frequências\n",
        "    if Hz:\n",
        "        # Vetor de frequências [Hz]\n",
        "        freq0 = 1/(T*Nfft)\n",
        "        freq = np.arange(0, Nfft*freq0, freq0)\n",
        "    else:\n",
        "        # Vetor de frequências [rad/s]\n",
        "        w0 = 2*np.pi/(T*Nfft)\n",
        "        freq = np.arange(0, Nfft*w0, w0)\n",
        "    freq = freq[:Nfft//2] # Descarta simetria na frequencia\n",
        "\n",
        "    return mag, phase, freq"
      ]
    },
    {
      "cell_type": "code",
      "execution_count": null,
      "metadata": {
        "id": "fFGQKrMmhhqu"
      },
      "outputs": [],
      "source": [
        "def extract_pixels(image, RGB=False):\n",
        "    '''\n",
        "    Returns an array with the color components for every pixel, added by 1.\n",
        "    Starts on the upper left pixel, moving horizontally, on a zigzag patern.\n",
        "    The signal is inverted on every \"line\" break.\n",
        "    ```\n",
        "\n",
        "    # PARAMETERS:\n",
        "    - image: PIL.Image.Image\n",
        "    - RGB: boolean, optional\n",
        "    >>> False → Grayscale (1 value per pixel)\n",
        "    >>> True → RGB (3 values per pixel)\n",
        "\n",
        "    # RETURNS:\n",
        "    - signal: array_like\n",
        "    ```\n",
        "    '''\n",
        "\n",
        "    width, height = image.size # Dimensões da imagem\n",
        "    signal = [] # Inicia um vetor vazio\n",
        "\n",
        "    if RGB: # Sinal com 3 componentes por pixel (RGB)\n",
        "        for y in range(height):\n",
        "            if y%2 == 0: # Insere as informações das componentes RGB no vetor, com sinal positivo\n",
        "                for x in range(width):\n",
        "                    rgb = image.getpixel((x, y)) # Componentes RGB do pixel\n",
        "                    signal.append(rgb[0]+1) # Red\n",
        "                    signal.append(rgb[1]+1) # Green\n",
        "                    signal.append(rgb[2]+1) # Blue\n",
        "            else: # Insere as informações das componentes RGB no vetor, com sinal negativo\n",
        "                for x in range(width-1, -1, -1):\n",
        "                    rgb = image.getpixel((x, y)) # Componentes RGB do pixel\n",
        "                    signal.append(-rgb[0]-1) # Red\n",
        "                    signal.append(-rgb[1]-1) # Green\n",
        "                    signal.append(-rgb[2]-1) # Blue\n",
        "    else: # Sinal com 1 componente por pixel (Grayscale)\n",
        "        for y in range(height):\n",
        "            if y%2 == 0: # Insere a informação da componente Grayscale no vetor, com sinal positivo\n",
        "                for x in range(width):\n",
        "                    rgb = image.getpixel((x, y)) # Componentes RGB do pixel\n",
        "                    color = grayscale(rgb) # Converte para escala de cinza (ponderada)\n",
        "                    signal.append(color+1)\n",
        "            else: # Insere a informação da componente Grayscale no vetor, com sinal negativo\n",
        "                for x in range(width-1, -1, -1):\n",
        "                    rgb = image.getpixel((x, y)) # Componentes RGB do pixel\n",
        "                    color = grayscale(rgb) # Converte para escala de cinza (ponderada)\n",
        "                    signal.append(-color-1)\n",
        "\n",
        "    return signal"
      ]
    },
    {
      "cell_type": "code",
      "execution_count": null,
      "metadata": {
        "id": "RVXVyReaGoc4"
      },
      "outputs": [],
      "source": [
        "def calc_dimensions(signal, RGB=False):\n",
        "    '''\n",
        "    Calculates and returns the dimensions from the original image.\n",
        "    ```\n",
        "\n",
        "    # PARAMETERS:\n",
        "    - signal: array_like\n",
        "    - RGB: boolean, optional\n",
        "    >>> False → Grayscale (1 value per pixel)\n",
        "    >>> True → RGB (3 values per pixel)\n",
        "\n",
        "    # RETURNS:\n",
        "    - width: int (pixels)\n",
        "    - heigth: int (pixels)\n",
        "    ```\n",
        "    '''\n",
        "\n",
        "    height = 1; # Inicia o contador de linhas\n",
        "\n",
        "    # Detecta estado inicial de sinal das componentes\n",
        "    if signal[0] >= 0:\n",
        "        positive = True\n",
        "    else:\n",
        "        positive = False\n",
        "\n",
        "    # Detecta mudança de sinal das componentes (quebra de linha)\n",
        "    for x in range(len(signal)):\n",
        "        if positive and (signal[x] < 0): # Borda de descida\n",
        "            positive = False\n",
        "            height = height + 1\n",
        "        if not(positive) and (signal[x] > 0): # Borda de subida\n",
        "            positive = True\n",
        "            height = height + 1\n",
        "\n",
        "    # Calcula largura da imagem de acordo com o sistema de cores utilizado\n",
        "    width = len(signal)/height\n",
        "    if RGB:\n",
        "        width = width/3\n",
        "\n",
        "    return int(width), int(height)"
      ]
    },
    {
      "cell_type": "markdown",
      "metadata": {
        "id": "Uh6UgR6j3AKn"
      },
      "source": [
        "### Entrada (Imagem)"
      ]
    },
    {
      "cell_type": "code",
      "execution_count": null,
      "metadata": {
        "colab": {
          "base_uri": "https://localhost:8080/"
        },
        "id": "7jeRY0kVcfNp",
        "outputId": "d8450af1-1a53-4053-8137-c75303b6387e"
      },
      "outputs": [
        {
          "output_type": "stream",
          "name": "stdout",
          "text": [
            "fatal: destination path 'Git' already exists and is not an empty directory.\n"
          ]
        }
      ],
      "source": [
        "# Importa o drive\n",
        "# from google.colab import drive\n",
        "# drive.mount('/content/drive');\n",
        "\n",
        "# Clona o repositório do projeto\n",
        "!git clone https://github.com/Lucas-C-Vargas/Image-Transmission-via-Audio-File.git Git"
      ]
    },
    {
      "cell_type": "code",
      "execution_count": null,
      "metadata": {
        "colab": {
          "base_uri": "https://localhost:8080/",
          "height": 90
        },
        "id": "Q4E3JlNaH1aL",
        "outputId": "103c0be1-0c1e-4ee3-de38-7571d403c5df"
      },
      "outputs": [
        {
          "data": {
            "text/html": [
              "\n",
              "     <input type=\"file\" id=\"files-6ee672ae-b507-4520-8ddc-02bdf445d0df\" name=\"files[]\" multiple disabled\n",
              "        style=\"border:none\" />\n",
              "     <output id=\"result-6ee672ae-b507-4520-8ddc-02bdf445d0df\">\n",
              "      Upload widget is only available when the cell has been executed in the\n",
              "      current browser session. Please rerun this cell to enable.\n",
              "      </output>\n",
              "      <script>// Copyright 2017 Google LLC\n",
              "//\n",
              "// Licensed under the Apache License, Version 2.0 (the \"License\");\n",
              "// you may not use this file except in compliance with the License.\n",
              "// You may obtain a copy of the License at\n",
              "//\n",
              "//      http://www.apache.org/licenses/LICENSE-2.0\n",
              "//\n",
              "// Unless required by applicable law or agreed to in writing, software\n",
              "// distributed under the License is distributed on an \"AS IS\" BASIS,\n",
              "// WITHOUT WARRANTIES OR CONDITIONS OF ANY KIND, either express or implied.\n",
              "// See the License for the specific language governing permissions and\n",
              "// limitations under the License.\n",
              "\n",
              "/**\n",
              " * @fileoverview Helpers for google.colab Python module.\n",
              " */\n",
              "(function(scope) {\n",
              "function span(text, styleAttributes = {}) {\n",
              "  const element = document.createElement('span');\n",
              "  element.textContent = text;\n",
              "  for (const key of Object.keys(styleAttributes)) {\n",
              "    element.style[key] = styleAttributes[key];\n",
              "  }\n",
              "  return element;\n",
              "}\n",
              "\n",
              "// Max number of bytes which will be uploaded at a time.\n",
              "const MAX_PAYLOAD_SIZE = 100 * 1024;\n",
              "\n",
              "function _uploadFiles(inputId, outputId) {\n",
              "  const steps = uploadFilesStep(inputId, outputId);\n",
              "  const outputElement = document.getElementById(outputId);\n",
              "  // Cache steps on the outputElement to make it available for the next call\n",
              "  // to uploadFilesContinue from Python.\n",
              "  outputElement.steps = steps;\n",
              "\n",
              "  return _uploadFilesContinue(outputId);\n",
              "}\n",
              "\n",
              "// This is roughly an async generator (not supported in the browser yet),\n",
              "// where there are multiple asynchronous steps and the Python side is going\n",
              "// to poll for completion of each step.\n",
              "// This uses a Promise to block the python side on completion of each step,\n",
              "// then passes the result of the previous step as the input to the next step.\n",
              "function _uploadFilesContinue(outputId) {\n",
              "  const outputElement = document.getElementById(outputId);\n",
              "  const steps = outputElement.steps;\n",
              "\n",
              "  const next = steps.next(outputElement.lastPromiseValue);\n",
              "  return Promise.resolve(next.value.promise).then((value) => {\n",
              "    // Cache the last promise value to make it available to the next\n",
              "    // step of the generator.\n",
              "    outputElement.lastPromiseValue = value;\n",
              "    return next.value.response;\n",
              "  });\n",
              "}\n",
              "\n",
              "/**\n",
              " * Generator function which is called between each async step of the upload\n",
              " * process.\n",
              " * @param {string} inputId Element ID of the input file picker element.\n",
              " * @param {string} outputId Element ID of the output display.\n",
              " * @return {!Iterable<!Object>} Iterable of next steps.\n",
              " */\n",
              "function* uploadFilesStep(inputId, outputId) {\n",
              "  const inputElement = document.getElementById(inputId);\n",
              "  inputElement.disabled = false;\n",
              "\n",
              "  const outputElement = document.getElementById(outputId);\n",
              "  outputElement.innerHTML = '';\n",
              "\n",
              "  const pickedPromise = new Promise((resolve) => {\n",
              "    inputElement.addEventListener('change', (e) => {\n",
              "      resolve(e.target.files);\n",
              "    });\n",
              "  });\n",
              "\n",
              "  const cancel = document.createElement('button');\n",
              "  inputElement.parentElement.appendChild(cancel);\n",
              "  cancel.textContent = 'Cancel upload';\n",
              "  const cancelPromise = new Promise((resolve) => {\n",
              "    cancel.onclick = () => {\n",
              "      resolve(null);\n",
              "    };\n",
              "  });\n",
              "\n",
              "  // Wait for the user to pick the files.\n",
              "  const files = yield {\n",
              "    promise: Promise.race([pickedPromise, cancelPromise]),\n",
              "    response: {\n",
              "      action: 'starting',\n",
              "    }\n",
              "  };\n",
              "\n",
              "  cancel.remove();\n",
              "\n",
              "  // Disable the input element since further picks are not allowed.\n",
              "  inputElement.disabled = true;\n",
              "\n",
              "  if (!files) {\n",
              "    return {\n",
              "      response: {\n",
              "        action: 'complete',\n",
              "      }\n",
              "    };\n",
              "  }\n",
              "\n",
              "  for (const file of files) {\n",
              "    const li = document.createElement('li');\n",
              "    li.append(span(file.name, {fontWeight: 'bold'}));\n",
              "    li.append(span(\n",
              "        `(${file.type || 'n/a'}) - ${file.size} bytes, ` +\n",
              "        `last modified: ${\n",
              "            file.lastModifiedDate ? file.lastModifiedDate.toLocaleDateString() :\n",
              "                                    'n/a'} - `));\n",
              "    const percent = span('0% done');\n",
              "    li.appendChild(percent);\n",
              "\n",
              "    outputElement.appendChild(li);\n",
              "\n",
              "    const fileDataPromise = new Promise((resolve) => {\n",
              "      const reader = new FileReader();\n",
              "      reader.onload = (e) => {\n",
              "        resolve(e.target.result);\n",
              "      };\n",
              "      reader.readAsArrayBuffer(file);\n",
              "    });\n",
              "    // Wait for the data to be ready.\n",
              "    let fileData = yield {\n",
              "      promise: fileDataPromise,\n",
              "      response: {\n",
              "        action: 'continue',\n",
              "      }\n",
              "    };\n",
              "\n",
              "    // Use a chunked sending to avoid message size limits. See b/62115660.\n",
              "    let position = 0;\n",
              "    do {\n",
              "      const length = Math.min(fileData.byteLength - position, MAX_PAYLOAD_SIZE);\n",
              "      const chunk = new Uint8Array(fileData, position, length);\n",
              "      position += length;\n",
              "\n",
              "      const base64 = btoa(String.fromCharCode.apply(null, chunk));\n",
              "      yield {\n",
              "        response: {\n",
              "          action: 'append',\n",
              "          file: file.name,\n",
              "          data: base64,\n",
              "        },\n",
              "      };\n",
              "\n",
              "      let percentDone = fileData.byteLength === 0 ?\n",
              "          100 :\n",
              "          Math.round((position / fileData.byteLength) * 100);\n",
              "      percent.textContent = `${percentDone}% done`;\n",
              "\n",
              "    } while (position < fileData.byteLength);\n",
              "  }\n",
              "\n",
              "  // All done.\n",
              "  yield {\n",
              "    response: {\n",
              "      action: 'complete',\n",
              "    }\n",
              "  };\n",
              "}\n",
              "\n",
              "scope.google = scope.google || {};\n",
              "scope.google.colab = scope.google.colab || {};\n",
              "scope.google.colab._files = {\n",
              "  _uploadFiles,\n",
              "  _uploadFilesContinue,\n",
              "};\n",
              "})(self);\n",
              "</script> "
            ],
            "text/plain": [
              "<IPython.core.display.HTML object>"
            ]
          },
          "metadata": {},
          "output_type": "display_data"
        }
      ],
      "source": [
        "from google.colab import files\n",
        "uploaded = files.upload()\n",
        "for fn in uploaded.keys():\n",
        "  print('User uploaded file \"{name}\" with length {length} bytes'.format(name=fn, length=len(uploaded[fn])))\n",
        "image = Image.open(fn)\n",
        "width, heigth = image.size\n",
        "image"
      ]
    },
    {
      "cell_type": "markdown",
      "metadata": {
        "id": "jWUmUCvnLMds"
      },
      "source": [
        "### Conversão da imagem em audio"
      ]
    },
    {
      "cell_type": "code",
      "execution_count": null,
      "metadata": {
        "id": "ZHwKbt6I3lXN"
      },
      "outputs": [],
      "source": [
        "extrgb = True\n",
        "sigext = extract_pixels(image,extrgb)\n",
        "fs = 44100\n",
        "\n",
        "tempo = np.arange(0, len(sigext)) / fs\n",
        "\n",
        "modulacao = True\n",
        "\n",
        "frequencia_portadora = 12345\n",
        "sigport = np.cos(2*np.pi*frequencia_portadora * tempo)\n",
        "if modulacao:\n",
        "  modsig = sigport * sigext\n",
        "else:\n",
        "  modsig = sigext\n",
        "\n",
        "plt.figure(figsize=(12,2))\n",
        "plt.plot(tempo, modsig, color = \"#2B2B2B\")\n",
        "\n",
        "if extrgb:\n",
        "  plt.title(\"Imagem convertida - RGB\")\n",
        "  plt.ylabel(\"Cor em RGB\")\n",
        "else:\n",
        "  plt.title(\"Imagem convertida - Escala de cinza\")\n",
        "  plt.ylabel(\"Cor em escala de cinza\")\n",
        "\n",
        "plt.xlabel(\"Tempo(s)\");\n",
        "# plt.xlim(0, 6000)\n",
        "\n",
        "magsi, phasi, freqsi = fourier(modsig, tempo)\n",
        "\n",
        "plt.figure(figsize=(12,2))\n",
        "plt.plot(freqsi, magsi, color = \"#2B2B2B\")\n",
        "\n",
        "if extrgb:\n",
        "  plt.title(\"FFT - Imagem convertida - RGB\")\n",
        "  plt.ylabel(\"Amplitude\")\n",
        "else:\n",
        "  plt.title(\"FFT - Imagem convertida - Escala de cinza\")\n",
        "  plt.ylabel(\"Amplitude\")\n",
        "\n",
        "plt.xlabel(\"Frequência(Hz)\");\n",
        "# plt.xlim(7000, 16000)\n",
        "Audio(modsig, rate=fs, normalize=True)\n"
      ]
    },
    {
      "cell_type": "code",
      "execution_count": null,
      "metadata": {
        "id": "cTitTLonWc6c"
      },
      "outputs": [],
      "source": [
        "rinf = np.zeros(60)\n",
        "ginf = np.zeros(60)\n",
        "binf = np.zeros(60)\n",
        "\n",
        "for xp in range(0, 30-1, 3):\n",
        "  rinf[xp] = rinf[xp] + 8\n",
        "  ginf[xp+1] = ginf[xp+1] + 6\n",
        "  binf[xp+2] = binf[xp+2] + 13\n",
        "\n",
        "for xn in range(30, 60-1, 3):\n",
        "  rinf[xn] = rinf[xn] - 8\n",
        "  ginf[xn+1] = ginf[xn+1] - 6\n",
        "  binf[xn+2] = binf[xn+2] - 13\n",
        "\n",
        "xinf = np.arange(60)\n",
        "\n",
        "plt.figure(figsize=(10,3))\n",
        "plt.bar(xinf, rinf, color = \"Red\", label = \"Red\")\n",
        "plt.bar(xinf, ginf, color = \"Green\", label = \"Green\")\n",
        "plt.bar(xinf, binf, color = \"Blue\", label = \"Blue\")\n",
        "plt.title(\"Representação da imagem em sinal\")\n",
        "plt.ylabel(\"Quantidade de cor / Pixel\")\n",
        "plt.xlabel(\"RGB por pixel\")\n",
        "plt.legend();\n"
      ]
    },
    {
      "cell_type": "code",
      "execution_count": null,
      "metadata": {
        "id": "uCg8JIiWPNK3"
      },
      "outputs": [],
      "source": [
        "# Image Transmission via Audio File\n",
        "\n",
        "# Image to Audio\n",
        "'''\n",
        "\n",
        "'''\n",
        "\n",
        "# Audio to Image\n",
        "'''\n",
        "1 - Inserir arquivo de audio\n",
        "2 - Obter sinal \"criptografado\" (demodulação e/ou demultiplexação)\n",
        "3 - Reconstruir imagem\n",
        "'''"
      ]
    },
    {
      "cell_type": "code",
      "execution_count": null,
      "metadata": {
        "id": "XHoW7gD4PxT9"
      },
      "outputs": [],
      "source": []
    },
    {
      "cell_type": "markdown",
      "metadata": {
        "id": "j3V8CQ7tkjpz"
      },
      "source": [
        "[//]: Rodapé\n",
        "# <center> --- </center>\n",
        "\n",
        "---\n",
        "\n",
        "<center>\n",
        "  <img\n",
        "    src=\"https://drive.google.com/uc?export=view&id=1nHTWpJNRG-PMsewxoHzlCYARkTwPQIrw\"\n",
        "    alt=\"Empty_PNG\"\n",
        "    align=\"left\"\n",
        "    height=\"50\"\n",
        "    width=\"50\"\n",
        "  />\n",
        "  <img\n",
        "    src=\"https://drive.google.com/uc?export=view&id=1m_rzpQJQOZ1Kd3RBA5KkY0dm-_Swlg4_\"\n",
        "    alt=\"Logo IFMG\"\n",
        "    align=\"left\"\n",
        "    height=\"50\"\n",
        "  />\n",
        "  <img\n",
        "    src=\"https://drive.google.com/uc?export=view&id=1nHTWpJNRG-PMsewxoHzlCYARkTwPQIrw\"\n",
        "    alt=\"Empty_PNG\"\n",
        "    align=\"right\"\n",
        "    height=\"50\"\n",
        "    width=\"50\"\n",
        "  />\n",
        "  <img\n",
        "    src=\"https://drive.google.com/uc?export=view&id=1m_rzpQJQOZ1Kd3RBA5KkY0dm-_Swlg4_\"\n",
        "    alt=\"Empty_PNG\"\n",
        "    align=\"right\"\n",
        "    height=\"50\"\n",
        "    width=\"50\"\n",
        "  />\n",
        "  <figcaption>Instituto Federal de Educação, Ciência e tecnologia de Minas Gerais - Campus Betim</figcaption>\n",
        "  <figcaption>Processamento de Sinais - 2023.2</figcaption>\n",
        "</center>\n",
        "\n",
        "---"
      ]
    }
  ],
  "metadata": {
    "colab": {
      "provenance": [],
      "include_colab_link": true
    },
    "kernelspec": {
      "display_name": "Python 3",
      "name": "python3"
    },
    "language_info": {
      "name": "python"
    }
  },
  "nbformat": 4,
  "nbformat_minor": 0
}